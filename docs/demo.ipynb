{
 "cells": [
  {
   "cell_type": "markdown",
   "metadata": {},
   "source": [
    "# `bbconf` usage demo\n",
    "\n",
    "\n",
    "## Configuration filepath determination\n",
    "\n",
    "In order to start working with the `BedBaseConf` object, it has to be initialized first. The constuctor requires one argument, which is a path to the configuration file (in YAML format).\n",
    "\n",
    "`bbconf` provides a way to easily determine a path to the required configuration file. The file can be pointed to by the `$BEDBASE` environment variable. `get_bedbase_cfg` function returns a path which can be either excplicitly provided as an argument or read from the environment variable."
   ]
  },
  {
   "cell_type": "code",
   "execution_count": 6,
   "metadata": {},
   "outputs": [
    {
     "name": "stderr",
     "output_type": "stream",
     "text": [
      "DEBU 07:58:39 | bbconf:est:266 > Configured logger 'bbconf' using logmuse v0.2.6 \n"
     ]
    }
   ],
   "source": [
    "import logmuse\n",
    "logmuse.init_logger(\"bbconf\", \"DEBUG\")\n",
    "from bbconf import *\n",
    "cfg_filepath = get_bedbase_cfg(cfg=\"../tests/data/config_min.yaml\")"
   ]
  },
  {
   "cell_type": "markdown",
   "metadata": {},
   "source": [
    "### Example config file\n",
    "\n",
    "The minimal configuration must define the path to the [`bedstat`](https://github.com/databio/bedstat) pipeline output directory."
   ]
  },
  {
   "cell_type": "code",
   "execution_count": 7,
   "metadata": {},
   "outputs": [
    {
     "name": "stdout",
     "output_type": "stream",
     "text": [
      "# min config example. Refer to bbconf/const.py for key names and default values\n",
      "\n",
      "path:\n",
      "  bedstat_output: /Users/mstolarczyk/Desktop/testing/bedbase_tutorial/bedstat_output\n",
      "  bedbuncher_output: /Users/mstolarczyk/Desktop/testing/bedbase_tutorial/bedbuncher_output\n"
     ]
    }
   ],
   "source": [
    "text_file = open(cfg_filepath)\n",
    "file_content = text_file.read()\n",
    "print(file_content)\n",
    "text_file.close()"
   ]
  },
  {
   "cell_type": "markdown",
   "metadata": {},
   "source": [
    "## `BedBaseConf` object initailization"
   ]
  },
  {
   "cell_type": "code",
   "execution_count": 8,
   "metadata": {},
   "outputs": [
    {
     "name": "stderr",
     "output_type": "stream",
     "text": [
      "DEBU 07:58:45 | bbconf:bbconf:58 > Config lacks 'database.user' key. Setting to: postgres \n",
      "DEBU 07:58:45 | bbconf:bbconf:58 > Config lacks 'database.password' key. Setting to: bedbasepassword \n",
      "DEBU 07:58:45 | bbconf:bbconf:58 > Config lacks 'database.name' key. Setting to: postgres \n",
      "DEBU 07:58:45 | bbconf:bbconf:58 > Config lacks 'database.port' key. Setting to: 5432 \n",
      "DEBU 07:58:45 | bbconf:bbconf:58 > Config lacks 'database.host' key. Setting to: localhost \n",
      "DEBU 07:58:45 | bbconf:bbconf:58 > Config lacks 'database.bed_table' key. Setting to: bedfiles \n",
      "DEBU 07:58:45 | bbconf:bbconf:58 > Config lacks 'database.relationship_table' key. Setting to: bedset_bedfiles \n",
      "DEBU 07:58:45 | bbconf:bbconf:58 > Config lacks 'database.bedset_table' key. Setting to: bedsets \n",
      "DEBU 07:58:45 | bbconf:bbconf:58 > Config lacks 'server.host' key. Setting to: 0.0.0.0 \n",
      "DEBU 07:58:45 | bbconf:bbconf:58 > Config lacks 'server.port' key. Setting to: 80 \n"
     ]
    }
   ],
   "source": [
    "bbc = BedBaseConf(filepath=cfg_filepath)"
   ]
  },
  {
   "cell_type": "markdown",
   "metadata": {},
   "source": [
    "As you can see above, missing entries are populated with default values and can be updated later on"
   ]
  },
  {
   "cell_type": "code",
   "execution_count": 9,
   "metadata": {},
   "outputs": [
    {
     "data": {
      "text/plain": [
       "BedBaseConf\n",
       "path:\n",
       "  bedstat_output: /Users/mstolarczyk/Desktop/testing/bedbase_tutorial/bedstat_output\n",
       "  bedbuncher_output: /Users/mstolarczyk/Desktop/testing/bedbase_tutorial/bedbuncher_output\n",
       "database:\n",
       "  user: postgres\n",
       "  password: bedbasepassword\n",
       "  name: postgres\n",
       "  port: 5432\n",
       "  host: localhost\n",
       "  bed_table: bedfiles\n",
       "  relationship_table: bedset_bedfiles\n",
       "  bedset_table: bedsets\n",
       "server:\n",
       "  host: 0.0.0.0\n",
       "  port: 80"
      ]
     },
     "execution_count": 9,
     "metadata": {},
     "output_type": "execute_result"
    }
   ],
   "source": [
    "bbc"
   ]
  },
  {
   "cell_type": "markdown",
   "metadata": {},
   "source": [
    "## Establishing connection with the database"
   ]
  },
  {
   "cell_type": "markdown",
   "metadata": {},
   "source": [
    "Before we start interacting with the database, we need to establish the connection. The required database information is sourced from the object itself. Obviously, the PostgreSQL database instance has to be launched before and running in the background. For example, to run the database in a Docker container, execute these two lines:\n",
    "\n",
    "```\n",
    "docker volume create postgres-data\n",
    "docker run -d --name bedbase-postgres -p 5432:5432 -e POSTGRES_PASSWORD=bedbasepassword -e POSTGRES_USER=postgres -e POSTGRES_DB=postgres -v postgres-data:/var/lib/postgresql/data postgres\n",
    "```\n",
    "The environment variables passed to the container need to match the settings in `BedBaseConf` object."
   ]
  },
  {
   "cell_type": "code",
   "execution_count": 11,
   "metadata": {},
   "outputs": [
    {
     "name": "stderr",
     "output_type": "stream",
     "text": [
      "DEBU 08:03:50 | bbconf:bbconf:106 > Established connection with PostgreSQL: localhost \n"
     ]
    },
    {
     "data": {
      "text/plain": [
       "True"
      ]
     },
     "execution_count": 11,
     "metadata": {},
     "output_type": "execute_result"
    }
   ],
   "source": [
    "bbc.establish_postgres_connection()"
   ]
  },
  {
   "cell_type": "markdown",
   "metadata": {},
   "source": [
    "## Interact with the object\n",
    "\n",
    "Please refer to the Python API documentation for the list of methods that can be useed to, e.g.:\n",
    "\n",
    "- create tables in the database \n",
    "- drop tables \n",
    "- insert a data into a selected table\n",
    "- search the tables\n",
    "- ...\n",
    "\n",
    "## Import the constants\n",
    "\n",
    "Another crucial feature of `bbconf` package is to standardize *any* variables that are could possibly be shared among packages in the *BEDBASE* project. Therefore one can import all available variables like:"
   ]
  },
  {
   "cell_type": "code",
   "execution_count": 6,
   "metadata": {},
   "outputs": [
    {
     "data": {
      "text/plain": [
       "'bed_index'"
      ]
     },
     "execution_count": 6,
     "metadata": {},
     "output_type": "execute_result"
    }
   ],
   "source": [
    "from bbconf.const import *\n",
    "\n",
    "CFG_BED_INDEX_KEY"
   ]
  }
 ],
 "metadata": {
  "kernelspec": {
   "display_name": "Python 3",
   "language": "python",
   "name": "python3"
  },
  "language_info": {
   "codemirror_mode": {
    "name": "ipython",
    "version": 3
   },
   "file_extension": ".py",
   "mimetype": "text/x-python",
   "name": "python",
   "nbconvert_exporter": "python",
   "pygments_lexer": "ipython3",
   "version": "3.6.5"
  }
 },
 "nbformat": 4,
 "nbformat_minor": 2
}
