{
 "cells": [
  {
   "cell_type": "markdown",
   "metadata": {},
   "source": [
    "# `bbconf` usage demo\n",
    "\n",
    "\n",
    "## Configuration filepath determination\n",
    "\n",
    "In order to start working with the `BedBaseConf` object, it has to be initialized first. The constuctor requires one argument, which is a path to the configuration file (in YAML format).\n",
    "\n",
    "`bbconf` provides a way to easily determine a path to the required configuration file. The file can be pointed to by the `$BEDBASE` environment variable. `get_bedbase_cfg` function returns a path which can be either excplicitly provided as an argument or read from the environment variable."
   ]
  },
  {
   "cell_type": "code",
   "execution_count": 1,
   "metadata": {},
   "outputs": [],
   "source": [
    "from bbconf import *\n",
    "cfg_filepath = get_bedbase_cfg(cfg=\"../config_min.yaml\")"
   ]
  },
  {
   "cell_type": "markdown",
   "metadata": {},
   "source": [
    "### Example config file\n",
    "\n",
    "The minimal configuration must define the path to the [`bedstat`](https://github.com/databio/bedstat) pipeline output directory."
   ]
  },
  {
   "cell_type": "code",
   "execution_count": 2,
   "metadata": {},
   "outputs": [
    {
     "name": "stdout",
     "output_type": "stream",
     "text": [
      "# min config example. Refer to bbconf/const.py for key names and default values\n",
      "\n",
      "path:\n",
      "  bedstat_output: $HOME/results_pipeline\n"
     ]
    }
   ],
   "source": [
    "text_file = open(cfg_filepath)\n",
    "file_content = text_file.read()\n",
    "print(file_content)\n",
    "text_file.close()"
   ]
  },
  {
   "cell_type": "markdown",
   "metadata": {},
   "source": [
    "## `BedBaseConf` object initailization"
   ]
  },
  {
   "cell_type": "code",
   "execution_count": 3,
   "metadata": {},
   "outputs": [
    {
     "name": "stderr",
     "output_type": "stream",
     "text": [
      "Config lacks 'database.host' key. Setting to: localhost\n",
      "Config lacks 'database.bed_index' key. Setting to: bedfiles\n",
      "Config lacks 'database.bedset_index' key. Setting to: bedsets\n",
      "Config lacks 'server.host' key. Setting to: 0.0.0.0\n",
      "Config lacks 'server.port' key. Setting to: 80\n"
     ]
    }
   ],
   "source": [
    "bbc = BedBaseConf(filepath=cfg_filepath)"
   ]
  },
  {
   "cell_type": "markdown",
   "metadata": {},
   "source": [
    "As you can see above, missing entries are populated with default values and can be updated later on"
   ]
  },
  {
   "cell_type": "code",
   "execution_count": 4,
   "metadata": {},
   "outputs": [
    {
     "data": {
      "text/plain": [
       "BedBaseConf\n",
       "path:\n",
       "  bedstat_output: $HOME/results_pipeline\n",
       "database:\n",
       "  host: localhost\n",
       "  bed_index: bedfiles\n",
       "  bedset_index: bedsets\n",
       "server:\n",
       "  host: 0.0.0.0\n",
       "  port: 80"
      ]
     },
     "execution_count": 4,
     "metadata": {},
     "output_type": "execute_result"
    }
   ],
   "source": [
    "bbc"
   ]
  },
  {
   "cell_type": "markdown",
   "metadata": {},
   "source": [
    "## Establishing connection with the database"
   ]
  },
  {
   "cell_type": "markdown",
   "metadata": {},
   "source": [
    "Before we start interacting with the database, we need to establish the connection. The required database information is sourced from the object itself. Obviously, the Elasticsearch instance has to be launched before."
   ]
  },
  {
   "cell_type": "code",
   "execution_count": 5,
   "metadata": {},
   "outputs": [
    {
     "name": "stderr",
     "output_type": "stream",
     "text": [
      "Established connection with Elasticsearch: localhost\n"
     ]
    }
   ],
   "source": [
    "bbc.establish_elasticsearch_connection()"
   ]
  },
  {
   "cell_type": "markdown",
   "metadata": {},
   "source": [
    "## Interact with the object\n",
    "\n",
    "Please refer to the Python API documentation for the list of methods that can be use to, e.g.:\n",
    "\n",
    "- insert a data to Elasticseach into a predefined index\n",
    "- search the predefined indices\n",
    "- count the inserted data elements\n",
    "- ...\n",
    "\n",
    "## Import the constants\n",
    "\n",
    "Another crucial feature of `bbconf` package is to standardize *any* variables that are could possibly be shared among packages in the *BEDBASE* project. Therefore one can import all available variables like:"
   ]
  },
  {
   "cell_type": "code",
   "execution_count": 6,
   "metadata": {},
   "outputs": [
    {
     "data": {
      "text/plain": [
       "'bed_index'"
      ]
     },
     "execution_count": 6,
     "metadata": {},
     "output_type": "execute_result"
    }
   ],
   "source": [
    "from bbconf.const import *\n",
    "\n",
    "CFG_BED_INDEX_KEY"
   ]
  }
 ],
 "metadata": {
  "kernelspec": {
   "display_name": "Python 3",
   "language": "python",
   "name": "python3"
  },
  "language_info": {
   "codemirror_mode": {
    "name": "ipython",
    "version": 3
   },
   "file_extension": ".py",
   "mimetype": "text/x-python",
   "name": "python",
   "nbconvert_exporter": "python",
   "pygments_lexer": "ipython3",
   "version": "3.6.5"
  }
 },
 "nbformat": 4,
 "nbformat_minor": 2
}
