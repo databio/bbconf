{
 "cells": [
  {
   "cell_type": "markdown",
   "metadata": {},
   "source": [
    "# `bbconf` usage demo\n",
    "\n",
    "\n",
    "## `BedBaseConf` object initailization\n",
    "\n",
    "In order to start working with the `BedBaseConf` object, it has to be initialized first. The constuctor requires one argument, which is a path to the configuration file (in YAML format)."
   ]
  },
  {
   "cell_type": "code",
   "execution_count": 1,
   "metadata": {},
   "outputs": [
    {
     "name": "stderr",
     "output_type": "stream",
     "text": [
      "Config lacks 'database.host' key. Setting to: localhost\n",
      "Config lacks 'database.bed_index' key. Setting to: bedfiles\n",
      "Config lacks 'database.bedset_index' key. Setting to: bedsets\n",
      "Config lacks 'server.host' key. Setting to: 0.0.0.0\n",
      "Config lacks 'server.port' key. Setting to: 80\n"
     ]
    }
   ],
   "source": [
    "from bbconf import *\n",
    "bbc = BedBaseConf(filepath=\"../config_min.yaml\")"
   ]
  },
  {
   "cell_type": "markdown",
   "metadata": {},
   "source": [
    "As you can see, the only required entry in the config file is the path to the `bedstat` pipeline output direcotry"
   ]
  },
  {
   "cell_type": "code",
   "execution_count": 2,
   "metadata": {},
   "outputs": [
    {
     "name": "stdout",
     "output_type": "stream",
     "text": [
      "# min config example. Refer to bbconf/const.py for key names and default values\n",
      "\n",
      "path:\n",
      "  bedstat_output: $HOME/results_pipeline\n"
     ]
    }
   ],
   "source": [
    "text_file = open(\"../config_min.yaml\")\n",
    "file_content = text_file.read()\n",
    "print(file_content)\n",
    "text_file.close()"
   ]
  },
  {
   "cell_type": "markdown",
   "metadata": {},
   "source": [
    "All other entries are populated with default values and can be updated later on"
   ]
  },
  {
   "cell_type": "code",
   "execution_count": 3,
   "metadata": {},
   "outputs": [
    {
     "data": {
      "text/plain": [
       "BedBaseConf\n",
       "path:\n",
       "  bedstat_output: $HOME/results_pipeline\n",
       "database:\n",
       "  host: localhost\n",
       "  bed_index: bedfiles\n",
       "  bedset_index: bedsets\n",
       "server:\n",
       "  host: 0.0.0.0\n",
       "  port: 80"
      ]
     },
     "execution_count": 3,
     "metadata": {},
     "output_type": "execute_result"
    }
   ],
   "source": [
    "bbc"
   ]
  },
  {
   "cell_type": "code",
   "execution_count": 4,
   "metadata": {},
   "outputs": [],
   "source": [
    "## Establishing connection with the database"
   ]
  },
  {
   "cell_type": "markdown",
   "metadata": {},
   "source": [
    "Before we start interacting with the database, we need to establish the connection. The required database information is sourced from the object itself"
   ]
  },
  {
   "cell_type": "code",
   "execution_count": 5,
   "metadata": {},
   "outputs": [
    {
     "name": "stderr",
     "output_type": "stream",
     "text": [
      "Established connection with Elasticsearch: localhost\n"
     ]
    }
   ],
   "source": [
    "bbc.establish_elasticsearch_connection()"
   ]
  },
  {
   "cell_type": "code",
   "execution_count": null,
   "metadata": {},
   "outputs": [],
   "source": []
  },
  {
   "cell_type": "code",
   "execution_count": 6,
   "metadata": {},
   "outputs": [],
   "source": [
    "## Elasticsearch index operations"
   ]
  }
 ],
 "metadata": {
  "kernelspec": {
   "display_name": "Python 3",
   "language": "python",
   "name": "python3"
  },
  "language_info": {
   "codemirror_mode": {
    "name": "ipython",
    "version": 3
   },
   "file_extension": ".py",
   "mimetype": "text/x-python",
   "name": "python",
   "nbconvert_exporter": "python",
   "pygments_lexer": "ipython3",
   "version": "3.6.5"
  }
 },
 "nbformat": 4,
 "nbformat_minor": 2
}
